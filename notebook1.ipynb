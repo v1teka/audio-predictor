{
 "cells": [
  {
   "cell_type": "code",
   "execution_count": null,
   "metadata": {},
   "outputs": [],
   "source": [
    "# form dataset\n",
    "    # download data\n",
    "    # aggregate data\n",
    "# extract features\n",
    "    # algorithmic preprocessing\n",
    "# learn model\n",
    "# evaluate model\n",
    "# tune model\n",
    "# make predictions\n",
    "    # preprocess input\n",
    "    # get prediction\n",
    "    # interprete output"
   ]
  }
 ],
 "metadata": {
  "language_info": {
   "name": "python"
  },
  "orig_nbformat": 4
 },
 "nbformat": 4,
 "nbformat_minor": 2
}
